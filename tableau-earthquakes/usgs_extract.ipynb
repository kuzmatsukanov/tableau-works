{
 "cells": [
  {
   "cell_type": "markdown",
   "id": "94e7b8f5-05d3-4be8-9b5c-2006f1db9de5",
   "metadata": {},
   "source": [
    "# USGS earthquake data"
   ]
  },
  {
   "cell_type": "code",
   "execution_count": 15,
   "id": "d824e053-236f-4a2e-88e4-34c1b55b7515",
   "metadata": {
    "execution": {
     "iopub.execute_input": "2023-09-13T17:36:39.550801Z",
     "iopub.status.busy": "2023-09-13T17:36:39.550241Z",
     "iopub.status.idle": "2023-09-13T17:36:45.042285Z",
     "shell.execute_reply": "2023-09-13T17:36:45.041611Z",
     "shell.execute_reply.started": "2023-09-13T17:36:39.550762Z"
    }
   },
   "outputs": [],
   "source": [
    "import pandas as pd\n",
    "import requests\n",
    "\n",
    "from pandas.api.types import is_numeric_dtype, is_datetime64_ns_dtype"
   ]
  },
  {
   "cell_type": "code",
   "execution_count": 32,
   "id": "e2e9e8fa-15d1-4b14-8aa7-9770b0d39204",
   "metadata": {
    "execution": {
     "iopub.execute_input": "2023-09-13T18:08:23.660199Z",
     "iopub.status.busy": "2023-09-13T18:08:23.659825Z",
     "iopub.status.idle": "2023-09-13T18:08:23.667804Z",
     "shell.execute_reply": "2023-09-13T18:08:23.666474Z",
     "shell.execute_reply.started": "2023-09-13T18:08:23.660172Z"
    },
    "tags": []
   },
   "outputs": [],
   "source": [
    "def get_query_url(base_url, params):\n",
    "    query_string = \"&\".join([f\"{key}={value}\" for key, value in params.items()])\n",
    "    full_url = f\"{base_url}{query_string}\"\n",
    "    return full_url\n",
    "\n",
    "# Define the base URL for the USGS earthquake API\n",
    "base_url = \"https://earthquake.usgs.gov/fdsnws/event/1/query?\"\n",
    "\n",
    "# Define parameters for the query\n",
    "params = {\n",
    "    \"format\": \"csv\",  # Data format (csv)\n",
    "    \"starttime\": \"1900-01-01\",  # Start date for the query\n",
    "    \"endtime\": \"2023-09-13\",  # End date for the query\n",
    "    \"minlatitude\": 29.414,  # Minimum latitude for Israel\n",
    "    \"maxlatitude\": 33.523,  # Maximum latitude for Israel\n",
    "    \"minlongitude\": 33.992,  # Minimum longitude for Israel\n",
    "    \"maxlongitude\": 36.255,  # Maximum longitude for Israel\n",
    "    \"minmagnitude\": 2.5,  # Minimum earthquake magnitude\n",
    "    \"eventtype\": \"earthquake\",  # Filter for earthquake events\n",
    "}\n",
    "\n",
    "# Get url for API request\n",
    "query_url = get_query_url(base_url, params)"
   ]
  },
  {
   "cell_type": "code",
   "execution_count": 33,
   "id": "cf50cddd-c01f-47a1-8197-c1afdcc88658",
   "metadata": {
    "execution": {
     "iopub.execute_input": "2023-09-13T18:08:24.219701Z",
     "iopub.status.busy": "2023-09-13T18:08:24.219300Z",
     "iopub.status.idle": "2023-09-13T18:08:24.962213Z",
     "shell.execute_reply": "2023-09-13T18:08:24.960902Z",
     "shell.execute_reply.started": "2023-09-13T18:08:24.219670Z"
    },
    "tags": []
   },
   "outputs": [],
   "source": [
    "try:\n",
    "    df = pd.read_csv(query_url, usecols=('time', 'latitude', 'longitude', 'mag', 'depth'))\n",
    "except requests.exceptions.RequestException as e:\n",
    "    # Handle request-related exceptions (e.g., network issues)\n",
    "    print(f\"Request error: {e}\")\n",
    "    \n",
    "except pd.errors.ParserError as e:\n",
    "    # Handle CSV parsing errors\n",
    "    print(f\"CSV parsing error: {e}\")"
   ]
  },
  {
   "cell_type": "code",
   "execution_count": 36,
   "id": "89e74267-1635-4a97-a4f5-e93d93fdb0e7",
   "metadata": {
    "execution": {
     "iopub.execute_input": "2023-09-13T18:08:50.387912Z",
     "iopub.status.busy": "2023-09-13T18:08:50.387198Z",
     "iopub.status.idle": "2023-09-13T18:08:50.393371Z",
     "shell.execute_reply": "2023-09-13T18:08:50.392217Z",
     "shell.execute_reply.started": "2023-09-13T18:08:50.387878Z"
    },
    "tags": []
   },
   "outputs": [],
   "source": [
    "# Non missing values\n",
    "assert ~df.isna().any().any()"
   ]
  },
  {
   "cell_type": "code",
   "execution_count": 41,
   "id": "0d022a17-e956-4cdd-825a-84715ac952d8",
   "metadata": {
    "execution": {
     "iopub.execute_input": "2023-09-13T18:43:39.463855Z",
     "iopub.status.busy": "2023-09-13T18:43:39.463421Z",
     "iopub.status.idle": "2023-09-13T18:43:39.469818Z",
     "shell.execute_reply": "2023-09-13T18:43:39.468840Z",
     "shell.execute_reply.started": "2023-09-13T18:43:39.463827Z"
    },
    "tags": []
   },
   "outputs": [],
   "source": [
    "# No duplicates\n",
    "assert df.duplicated().sum() == 0"
   ]
  },
  {
   "cell_type": "code",
   "execution_count": 69,
   "id": "df2b39ca-671a-4944-b2fb-916224856d24",
   "metadata": {
    "execution": {
     "iopub.execute_input": "2023-09-13T18:56:25.796668Z",
     "iopub.status.busy": "2023-09-13T18:56:25.796266Z",
     "iopub.status.idle": "2023-09-13T18:56:25.803247Z",
     "shell.execute_reply": "2023-09-13T18:56:25.802203Z",
     "shell.execute_reply.started": "2023-09-13T18:56:25.796636Z"
    },
    "tags": []
   },
   "outputs": [],
   "source": [
    "# Check data types\n",
    "assert is_datetime64_ns_dtype(pd.to_datetime(df['time']))\n",
    "assert all(is_numeric_dtype(df[col]) for col in df.columns.drop('time'))"
   ]
  },
  {
   "cell_type": "code",
   "execution_count": 78,
   "id": "45d5ac37-2d08-4722-8c68-08c098431d60",
   "metadata": {
    "execution": {
     "iopub.execute_input": "2023-09-13T19:01:44.381119Z",
     "iopub.status.busy": "2023-09-13T19:01:44.380348Z",
     "iopub.status.idle": "2023-09-13T19:01:44.390602Z",
     "shell.execute_reply": "2023-09-13T19:01:44.389560Z",
     "shell.execute_reply.started": "2023-09-13T19:01:44.381077Z"
    },
    "tags": []
   },
   "outputs": [],
   "source": [
    "# Check erronious values\n",
    "assert df[(df['mag'] > 10)].size == 0\n",
    "assert df[(df['depth'] < 0)].size == 0\n",
    "\n",
    "assert df[(df['latitude'] < params['minlatitude']) | (df['latitude'] > params['maxlatitude'])].size == 0\n",
    "assert df[(df['longitude'] < params['minlongitude']) | (df['longitude'] > params['maxlongitude'])].size == 0"
   ]
  },
  {
   "cell_type": "code",
   "execution_count": 80,
   "id": "405c0c1e-b119-428d-aae8-8207fba86bbd",
   "metadata": {
    "execution": {
     "iopub.execute_input": "2023-09-14T06:58:40.984903Z",
     "iopub.status.busy": "2023-09-14T06:58:40.979176Z",
     "iopub.status.idle": "2023-09-14T06:58:41.035446Z",
     "shell.execute_reply": "2023-09-14T06:58:41.033921Z",
     "shell.execute_reply.started": "2023-09-14T06:58:40.984279Z"
    },
    "tags": []
   },
   "outputs": [],
   "source": [
    "# Save to csv file\n",
    "df.to_csv('earthquakes_il.csv', index=True)"
   ]
  },
  {
   "cell_type": "code",
   "execution_count": null,
   "id": "99736ce2-686c-428d-818c-952d93caf381",
   "metadata": {},
   "outputs": [],
   "source": []
  },
  {
   "cell_type": "code",
   "execution_count": null,
   "id": "7caf5893-0c63-4aea-986c-006ea7667729",
   "metadata": {},
   "outputs": [],
   "source": []
  },
  {
   "cell_type": "code",
   "execution_count": null,
   "id": "e474d56b-5fac-4d5a-ae67-ed9872904b0d",
   "metadata": {},
   "outputs": [],
   "source": []
  }
 ],
 "metadata": {
  "kernelspec": {
   "display_name": "Python 3 (ipykernel)",
   "language": "python",
   "name": "python3"
  },
  "language_info": {
   "codemirror_mode": {
    "name": "ipython",
    "version": 3
   },
   "file_extension": ".py",
   "mimetype": "text/x-python",
   "name": "python",
   "nbconvert_exporter": "python",
   "pygments_lexer": "ipython3",
   "version": "3.9.12"
  }
 },
 "nbformat": 4,
 "nbformat_minor": 5
}
